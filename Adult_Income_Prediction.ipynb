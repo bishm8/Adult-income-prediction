{
  "cells": [
    {
      "cell_type": "markdown",
      "source": [
        "##**UTILITY FUNCTIONS**"
      ],
      "metadata": {
        "id": "JNo5kiTv2TNT"
      },
      "id": "JNo5kiTv2TNT"
    },
    {
      "cell_type": "code",
      "source": [
        "import numpy as np\n",
        "import pandas as pd\n",
        "import warnings\n",
        "from typing import List, Tuple, Dict\n",
        "\n",
        "\n",
        "def split_data(X, y, test_size=0.1, seed=None):\n",
        "    # shuffle data\n",
        "    np.random.seed(seed)\n",
        "    perm = np.random.permutation(X.index)\n",
        "    X = X.loc[perm]\n",
        "    y = y.loc[perm]\n",
        "    \n",
        "    # split into training and test sets\n",
        "    n_samples = X.shape[0]\n",
        "    if isinstance(test_size, float):\n",
        "        if test_size <= 0 or test_size >= 1:\n",
        "            raise ValueError(\"The test size should fall in the range (0,1)\")\n",
        "        n_train = n_samples - round(test_size*n_samples)\n",
        "    elif isinstance(test_size, int):\n",
        "        n_train = n_samples - test_size\n",
        "    else:\n",
        "        raise ValueError(\"Improper type \\'%s\\' for test_size\" % type(test_size))\n",
        "\n",
        "    X_train = X[:n_train]\n",
        "    y_train = y[:n_train]\n",
        "    X_test = X[n_train:]\n",
        "    y_test = y[n_train:]\n",
        "\n",
        "    return X_train, X_test, y_train, y_test\n",
        "\n",
        "def encode_one_hot(data): # note: pd.get_dummies(df) does the same\n",
        "    # https://www.kite.com/python/answers/how-to-do-one-hot-encoding-with-numpy-in-python\n",
        "    one_hot = np.zeros((data.size, data.max()+1))\n",
        "    rows = np.arange(data.size)\n",
        "    one_hot[rows, data] = 1\n",
        "    return one_hot\n",
        "\n",
        "def check_RandomState(random_state):\n",
        "    \"\"\" Parse different input types for the random state\"\"\"\n",
        "    if  random_state is None: \n",
        "        rng = np.random.RandomState() \n",
        "    elif isinstance(random_state, int): \n",
        "        # seed the random state with this integer\n",
        "        rng = np.random.RandomState(random_state) \n",
        "    elif isinstance(random_state, np.random.RandomState):\n",
        "        rng = random_state\n",
        "    else:\n",
        "        raise ValueError (\"improper type \\'%s\\' for random_state parameter\" % type(random_state))\n",
        "    return rng\n",
        "\n",
        "def check_sample_size(sample_size, n_samples: int):\n",
        "    if sample_size is None:\n",
        "        n = n_samples\n",
        "    elif isinstance(sample_size, int):\n",
        "        if sample_size == 1:\n",
        "            warnings.warn(\"Interpreting sample_size as 1 sample. Use sample_size=1.0 for 100% of the data\")\n",
        "        n = min(sample_size, n_samples)\n",
        "    elif isinstance(sample_size, float):\n",
        "        frac = min(sample_size, 1)\n",
        "        n = int(frac*n_samples)\n",
        "    else:\n",
        "        raise ValueError(\"Improper type \\'%s\\' for sample_size\" %type(sample_size))\n",
        "    return n\n",
        "\n",
        "def confusion_matrix(y_actual, y_pred):\n",
        "    \"\"\" Returns a confusion matrix where the rows are the actual classes, and the columns are the predicted classes\"\"\"\n",
        "    if y_actual.shape != y_pred.shape:\n",
        "        raise ValueError (\"input arrays must have the same shape, {}!={}\".format(y_actual.shape, y_pred.shape))\n",
        "    n = max(max(y_actual), max(y_pred)) + 1\n",
        "    C = np.zeros((n, n), dtype=int)\n",
        "    for label_actual in range(n):\n",
        "        idxs_true = (y_actual == label_actual)\n",
        "        for label_pred in range(n):\n",
        "            C[label_actual, label_pred] = sum(y_pred[idxs_true] == label_pred)\n",
        "    return C\n",
        "\n",
        "def calc_f1_score(y_actual, y_pred) -> Tuple[float]:\n",
        "    C = confusion_matrix(y_actual, y_pred)\n",
        "    if C.shape[0] != 2:\n",
        "        raise ValueError (\"input arrays must only have binary values\")\n",
        "    recall    = C[1][1]/(C[1][0]+C[1][1]) #true positive/actual positive\n",
        "    precision = C[1][1]/(C[0][1]+C[1][1]) #true positive/predicted positive\n",
        "    if (recall == 0) or (precision == 0):\n",
        "        f1 = 0\n",
        "    else:\n",
        "        f1 = 2 * recall*precision/(recall + precision) # = 2/((1/recall)+(1/precision))\n",
        "\n",
        "    print(\"Recall: {:.4f}\".format(recall))\n",
        "    print(\"Precision: {:.4f}\".format(precision))\n",
        "    print(\"F1 Score: {:.4f}\".format(f1))\n"
      ],
      "metadata": {
        "id": "YNrYpT4xqwWH"
      },
      "execution_count": null,
      "outputs": [],
      "id": "YNrYpT4xqwWH"
    },
    {
      "cell_type": "markdown",
      "source": [
        "##**DECISION TREE FUNCTIONS**"
      ],
      "metadata": {
        "id": "0PvMK6cTmtXz"
      },
      "id": "0PvMK6cTmtXz"
    },
    {
      "cell_type": "code",
      "source": [
        "import warnings\n",
        "def gini_score(counts: List[int]) -> float: \n",
        "    score = 1\n",
        "    n = sum(counts)\n",
        "    for c in counts:\n",
        "        p = c/n\n",
        "        score -= p*p\n",
        "    return score\n",
        "\n",
        "class DecisionTree:\n",
        "    def __init__(self, max_depth=None, max_features=None, min_samples_leaf=1, random_state=None):\n",
        "        self.max_depth = max_depth\n",
        "        self.max_features = max_features\n",
        "        self.min_samples_leaf = min_samples_leaf\n",
        "        self.RandomState = check_RandomState(random_state)\n",
        "\n",
        "        # initialise internal variables\n",
        "        self.tree_ = BinaryTree() \n",
        "        self.n_samples = []\n",
        "        self.values = []\n",
        "        self.impurities = []\n",
        "        self.split_features = []\n",
        "        self.split_values = []\n",
        "        self.n_features = None\n",
        "        self.n_classes = None\n",
        "        self.features = None\n",
        "        self.size = 0 # current node = size - 1\n",
        "        \n",
        "    def fit(self, X, Y):\n",
        "        if Y.ndim == 1:\n",
        "            Y = encode_one_hot(Y) # one-hot encoded y variable\n",
        "        elif Y.shape[1] == 1:\n",
        "            Y = encode_one_hot(Y) # one-hot encoded y variable\n",
        "\n",
        "        # set internal variables\n",
        "        self.n_features = X.shape[1]\n",
        "        self.n_classes = Y.shape[1]\n",
        "        self.features = X.columns\n",
        "        self.max_depth_ = float('inf') if self.max_depth is None else self.max_depth\n",
        "        if self.max_features is not None:\n",
        "            if self.max_features is 'sqrt':\n",
        "                n = int(np.sqrt(self.n_features))\n",
        "            elif isinstance(self.max_features, int):\n",
        "                n = min(self.max_features, self.n_features)\n",
        "            else:\n",
        "                raise Exception('Unknown parameter \\'%s\\' for max_features' % self.max_features)\n",
        "        else:\n",
        "            n = self.n_features \n",
        "        self.n_features_split = n\n",
        "\n",
        "        # initial split which recursively calls itself\n",
        "        self._split_node(X, Y) \n",
        "\n",
        "        # set attributes\n",
        "        self.feature_importances_ = self.impurity_feature_importance()\n",
        "        self.depths = self.tree_.find_depths()\n",
        "\n",
        "    def get_n_splits(self) -> int:\n",
        "        \"The number of nodes (number of parameters/2) not counting the leaves in the tree\"\n",
        "        return self.tree_.n_splits\n",
        "    \n",
        "    def get_n_leaves(self) -> int:\n",
        "        \"The number of leaves (nodes without children) in the tree\"\n",
        "        return self.tree_.n_leaves\n",
        "\n",
        "    def get_max_depth(self) -> int:\n",
        "        \"The maximum depth in the tree\"\n",
        "        return self.tree_.get_max_depth(0)\n",
        "\n",
        "    def is_leaf(self, node_id: int) -> bool:\n",
        "        return self.tree_.is_leaf(node_id)\n",
        "    \n",
        "    def split_name(self, node_id: int) -> str:\n",
        "        return self.features[self.split_features[node_id]]\n",
        "\n",
        "    def _set_defaults(self, node_id: int, Y):\n",
        "        val = Y.sum(axis=0)\n",
        "        self.values.append(val)\n",
        "        self.impurities.append(gini_score(val))\n",
        "        self.split_features.append(None)\n",
        "        self.split_values.append(None)\n",
        "        self.n_samples.append(Y.shape[0])\n",
        "        self.tree_.add_node()\n",
        "    \n",
        "    def _split_node(self, X0, Y0):\n",
        "        stack = [(X0, Y0, -1, -1, 0)] # stack = [(X, Y, parent, side, depth)]\n",
        "        while stack:\n",
        "            X, Y, parent, side, depth = stack.pop()\n",
        "            node_id = self.size\n",
        "            self.size += 1\n",
        "            self._set_defaults(node_id, Y)\n",
        "            if side is 0:\n",
        "                self.tree_.set_left_child(parent, node_id)\n",
        "            elif side is 1:\n",
        "                self.tree_.set_right_child(parent, node_id)\n",
        "            if self.impurities[node_id] == 0: # only one class in this node\n",
        "                continue\n",
        "            \n",
        "            # random shuffling removes any bias due to the feature order\n",
        "            features = self.RandomState.permutation(self.n_features)[:self.n_features_split]\n",
        "\n",
        "            # make the split\n",
        "            best_score = float('inf')\n",
        "            for i in features:\n",
        "                best_score= self._find_bettersplit(i, X, Y, node_id, best_score)\n",
        "            if best_score == float('inf'):\n",
        "                continue\n",
        "\n",
        "\n",
        "            # make children\n",
        "            if depth < self.max_depth_: \n",
        "                x_split = X.values[:, self.split_features[node_id]]\n",
        "                lhs = np.nonzero(x_split<=self.split_values[node_id])\n",
        "                rhs = np.nonzero(x_split> self.split_values[node_id])\n",
        "                stack.append((X.iloc[rhs], Y[rhs[0], :], node_id, 1, depth+1)) # right first in, last out\n",
        "                stack.append((X.iloc[lhs], Y[lhs[0], :], node_id, 0, depth+1)) # left first out\n",
        "\n",
        "    \n",
        "    def _find_bettersplit(self, var_idx: int, X, Y, node_id: int, best_score:float) -> float:\n",
        "        X = X.values[:, var_idx] \n",
        "        n_samples = self.n_samples[node_id]\n",
        "\n",
        "        # sort the variables. \n",
        "        order = np.argsort(X)\n",
        "        X_sort, Y_sort = X[order], Y[order, :]\n",
        "\n",
        "        #Start with all on the right. Then move one sample to left one at a time\n",
        "        rhs_count = Y.sum(axis=0)\n",
        "        lhs_count = np.zeros(rhs_count.shape)\n",
        "        for i in range(0, len(X_sort)-1):\n",
        "            xi, yi = X_sort[i], Y_sort[i, :]\n",
        "            lhs_count += yi;  rhs_count -= yi\n",
        "            if (xi == X_sort[i+1]) or (sum(lhs_count) < self.min_samples_leaf):\n",
        "                continue\n",
        "            if sum(rhs_count) < self.min_samples_leaf:\n",
        "                break\n",
        "            # Gini Impurity\n",
        "            lhs_gini = gini_score(lhs_count)\n",
        "            rhs_gini = gini_score(rhs_count)\n",
        "            curr_score = (lhs_gini * lhs_count.sum() + rhs_gini * rhs_count.sum())/n_samples\n",
        "            if curr_score < best_score:\n",
        "                self.split_features[node_id] = var_idx\n",
        "                best_score = curr_score\n",
        "                self.split_values[node_id]= (xi + X_sort[i+1])/2\n",
        "        return best_score\n",
        "\n",
        "    def _predict_row(self, xi):\n",
        "        next_node = 0\n",
        "        while not self.is_leaf(next_node):\n",
        "            left, right = self.tree_.get_children(next_node)\n",
        "            next_node = left if xi[self.split_features[next_node]] <= self.split_values[next_node] else right\n",
        "        return self.values[next_node]\n",
        "\n",
        "    def _predict_batch(self, X, node=0):\n",
        "        # Helper function for predict_prob(). Predicts multiple batches of a row at time. Faster than _predict_row(self, xi)\n",
        "        if self.is_leaf(node):\n",
        "            return self.values[node]\n",
        "        if len(X) == 0:\n",
        "            return np.empty((0, self.n_classes))\n",
        "        left, right = self.tree_.get_children(node)\n",
        "\n",
        "        lhs = X[:, self.split_features[node]] <= self.split_values[node]\n",
        "        rhs = X[:, self.split_features[node]] >  self.split_values[node]\n",
        "\n",
        "        probs = np.zeros((X.shape[0], self.n_classes))\n",
        "        probs[lhs] = self._predict_batch(X[lhs], node=left)\n",
        "        probs[rhs] = self._predict_batch(X[rhs], node=right)\n",
        "        return probs\n",
        "\n",
        "    def predict_prob(self, X):\n",
        "        \"Return the probability in the final leaf for each class, given as the fraction of each class in that leaf\"\n",
        "        if X.values.ndim == 1:\n",
        "            probs = np.array([self._predict_row(X)])\n",
        "        else:\n",
        "            #start_time = time.time()\n",
        "            #probs = np.apply_along_axis(self._predict_row, 1, X.values) # slow because this is a for loop\n",
        "            probs = self._predict_batch(X.values)\n",
        "            #end_time = time.time()\n",
        "            #print('%.1fms' % ((end_time-start_time)*1000))\n",
        "            probs /= np.sum(probs, axis=1)[:, None]\n",
        "        return probs\n",
        "\n",
        "    def predict(self, X):\n",
        "        \"Return the most likely class in the final leaf\"\n",
        "        probs = self.predict_prob(X)\n",
        "        return np.nanargmax(probs, axis=1)\n",
        "\n",
        "    def predict_count(self, X):\n",
        "        \"Return the sample count in the final leaf for each class\"\n",
        "        if X.values.ndim == 1:\n",
        "            return np.array([self._predict_row(X.values)])\n",
        "        return np.apply_along_axis(self._predict_row, 1, X.values)\n",
        "\n",
        "    def impurity_feature_importance(self):\n",
        "        \"\"\"Calculate feature importance weighted by the number of samples affected by this feature at each split point. \"\"\"\n",
        "        feature_importances = np.zeros(self.n_features)\n",
        "        total_samples = self.n_samples[0]\n",
        "        for node in range(len(self.impurities)):\n",
        "            if self.is_leaf(node):\n",
        "                continue \n",
        "            spit_feature = self.split_features[node]\n",
        "            impurity = self.impurities[node]\n",
        "            n_samples = self.n_samples[node]\n",
        "            # calculate score\n",
        "            left, right = self.tree_.get_children(node)\n",
        "            lhs_gini = self.impurities[left]\n",
        "            rhs_gini = self.impurities[right]\n",
        "            lhs_count = self.n_samples[left]\n",
        "            rhs_count = self.n_samples[right]\n",
        "            score = (lhs_gini * lhs_count + rhs_gini * rhs_count)/n_samples\n",
        "            # feature_importances      = (decrease in node impurity) * (probability of reaching node ~ proportion of samples)\n",
        "            feature_importances[spit_feature] += (impurity-score) * (n_samples/total_samples)\n",
        "\n",
        "        feature_importances = feature_importances/feature_importances.sum()\n",
        "        return feature_importances\n",
        "\n",
        "    def get_info(self, node_id: int):\n",
        "        n_samples =  self.n_samples[node_id]\n",
        "        val =        self.values[node_id]\n",
        "        impurity =   self.impurities[node_id]\n",
        "        var_idx    = self.split_features[node_id]\n",
        "        split_val  = self.split_values[node_id]\n",
        "        if self.is_leaf(node_id):\n",
        "            return n_samples, val, impurity\n",
        "        else:\n",
        "            return n_samples, val, var_idx, split_val, impurity\n",
        "\n",
        "    def node_to_string(self, node_id: int) -> str:\n",
        "        if self.is_leaf(node_id):\n",
        "            n_samples, val, impurity = self.get_info(node_id)\n",
        "            s = 'n_samples: {:d}; value: {}; impurity: {:.4f}'.format(n_samples, val.astype(int), impurity)\n",
        "        else:\n",
        "            n_samples, val, var_idx, split_val, impurity = self.get_info(node_id)\n",
        "            split_name = self.split_name(node_id)\n",
        "            s =  'n_samples: {:d}; value: {}; impurity: {:.4f}'.format(n_samples, val.astype(int), impurity)\n",
        "            s += '; split: {}<={:.3f}'.format(split_name, split_val)\n",
        "        return s\n",
        "  \n",
        "\n",
        "class BinaryTree():\n",
        "    def __init__(self):\n",
        "        self.children_left = []\n",
        "        self.children_right = []\n",
        "\n",
        "    @property\n",
        "    def size(self):\n",
        "        \"The number of nodes in the tree\"\n",
        "        return len(self.children_left)\n",
        "\n",
        "    @property\n",
        "    def n_leaves(self):\n",
        "        \"The number of leaves (nodes without children) in the tree\"\n",
        "        return self.children_left.count(-1) \n",
        "\n",
        "    @property\n",
        "    def n_splits(self):\n",
        "        \"The number of nodes (number of parameters/2) not counting the leaves in the tree\"\n",
        "        return self.size - self.n_leaves\n",
        "\n",
        "    def add_node(self):\n",
        "        self.children_left.append(-1)\n",
        "        self.children_right.append(-1)\n",
        "    \n",
        "    def set_left_child(self, node_id: int, child_id: int):\n",
        "        self.children_left[node_id] = child_id\n",
        "\n",
        "    def set_right_child(self, node_id: int, child_id: int):\n",
        "        self.children_right[node_id] = child_id\n",
        "\n",
        "    def get_children(self, node_id: int): return self.children_left[node_id], self.children_right[node_id]\n",
        "\n",
        "    def find_depths(self):\n",
        "        depths = np.zeros(self.size, dtype=int)\n",
        "        depths[0] = -1\n",
        "        stack = [(0, 0)] # (parent, node_id)\n",
        "        while stack:\n",
        "            parent, node_id = stack.pop()\n",
        "            if node_id == -1:\n",
        "                continue\n",
        "            depths[node_id] = depths[parent] + 1\n",
        "            left = self.children_left[node_id]\n",
        "            right = self.children_right[node_id]\n",
        "            stack.extend([(node_id, left), (node_id, right)])\n",
        "        return depths\n",
        "\n",
        "    def is_leaf(self, node_id: int):\n",
        "        left = self.children_left[node_id]\n",
        "        right = self.children_right[node_id]\n",
        "        return right == left #(left == -1) and (right == -1)\n",
        "\n",
        "    def get_max_depth(self, node_id=0):\n",
        "        \"Calculate the maximum depth of the tree\"\n",
        "        if self.is_leaf(node_id):\n",
        "            return 0 \n",
        "        left = self.children_left[node_id]\n",
        "        right = self.children_right[node_id]\n",
        "        return max(self.get_max_depth(left), self.get_max_depth(right)) + 1\n",
        "\n",
        "    def preorder(self, node_id=0):\n",
        "        \"Pre-order tree traversal\"\n",
        "        # Note: the parallel arrays are already in pre-order\n",
        "        # Therefore can just return np.arange(self.size)\n",
        "        if node_id != -1:\n",
        "            yield node_id\n",
        "        left = self.children_left[node_id]\n",
        "        right = self.children_right[node_id]\n",
        "        if left != -1:\n",
        "            for leaf in self.preorder(left):\n",
        "                yield leaf\n",
        "        if right != -1:\n",
        "            for leaf in self.preorder(right):\n",
        "                yield leaf"
      ],
      "metadata": {
        "id": "ePRkCjQqlciK",
        "outputId": "edbf791d-2f80-4e11-be54-af0df61151ce",
        "colab": {
          "base_uri": "https://localhost:8080/"
        }
      },
      "execution_count": null,
      "outputs": [
        {
          "output_type": "stream",
          "name": "stderr",
          "text": [
            "<>:41: SyntaxWarning: \"is\" with a literal. Did you mean \"==\"?\n",
            "<>:92: SyntaxWarning: \"is\" with a literal. Did you mean \"==\"?\n",
            "<>:94: SyntaxWarning: \"is\" with a literal. Did you mean \"==\"?\n",
            "<>:41: SyntaxWarning: \"is\" with a literal. Did you mean \"==\"?\n",
            "<>:92: SyntaxWarning: \"is\" with a literal. Did you mean \"==\"?\n",
            "<>:94: SyntaxWarning: \"is\" with a literal. Did you mean \"==\"?\n",
            "<ipython-input-142-f1f57d74268e>:41: SyntaxWarning: \"is\" with a literal. Did you mean \"==\"?\n",
            "  if self.max_features is 'sqrt':\n",
            "<ipython-input-142-f1f57d74268e>:92: SyntaxWarning: \"is\" with a literal. Did you mean \"==\"?\n",
            "  if side is 0:\n",
            "<ipython-input-142-f1f57d74268e>:94: SyntaxWarning: \"is\" with a literal. Did you mean \"==\"?\n",
            "  elif side is 1:\n"
          ]
        }
      ],
      "id": "ePRkCjQqlciK"
    },
    {
      "cell_type": "markdown",
      "source": [
        "##**RANDOM FOREST FUNCTION**"
      ],
      "metadata": {
        "id": "xWlFPEw9lb-q"
      },
      "id": "xWlFPEw9lb-q"
    },
    {
      "cell_type": "code",
      "source": [
        "import numpy as np\n",
        "import pandas as pd\n",
        "import warnings\n",
        "import time\n",
        "from typing import List, Tuple, Dict\n",
        "\n",
        "class RandomForestClassifier:\n",
        "    def __init__(self, \n",
        "                n_trees=100, \n",
        "                random_state=None, \n",
        "                max_depth=None, \n",
        "                max_features=None, \n",
        "                min_samples_leaf=1,\n",
        "                sample_size=None, \n",
        "                bootstrap=True, \n",
        "                oob_score=False):\n",
        "        self.n_trees = n_trees\n",
        "        self.RandomState = check_RandomState(random_state)\n",
        "        self.max_depth = max_depth\n",
        "        self.max_features = max_features\n",
        "        self.min_samples_leaf=min_samples_leaf\n",
        "        self.sample_size = sample_size\n",
        "        self.bootstrap = bootstrap\n",
        "        self.oob_score = oob_score\n",
        "\n",
        "        self.features = None\n",
        "        self.n_features = None\n",
        "        self.n_classes = None\n",
        "        self.feature_importances_ = None\n",
        "        \n",
        "    def fit(self, X, Y):\n",
        "        \"fit the random tree to the independent variable X, to determine the dependent variable Y\"\n",
        "        if Y.ndim == 1:\n",
        "            Y = encode_one_hot(Y) # one-hot encoded y variable\n",
        "        elif Y.shape[1] == 1:\n",
        "            Y = encode_one_hot(Y) # one-hot encoded y variable\n",
        "\n",
        "        # set internal variables\n",
        "        self.n_features = X.shape[1]\n",
        "        self.n_classes = Y.shape[1]\n",
        "        self.features = X.columns.values\n",
        "        n_samples = X.shape[0]\n",
        "        self.sample_size_ = check_sample_size(self.sample_size, n_samples)\n",
        "\n",
        "        # create decision trees\n",
        "        self.trees = []\n",
        "        rng_states = [] # save the random states to regenerate the random indices for the oob_score\n",
        "        for i in range(self.n_trees):\n",
        "            rng_states.append(self.RandomState.get_state())\n",
        "            self.trees.append(self._create_tree(X, Y))\n",
        "\n",
        "        # set attributes\n",
        "        self.feature_importances_ = self.impurity_feature_importances()\n",
        "        if self.oob_score:\n",
        "            if not (self.bootstrap or (self.sample_size_<n_samples)):\n",
        "                warnings.warn(\"out-of-bag score will not be calculated because bootstrap=False\")\n",
        "            else:\n",
        "                self.oob_score_ = self.calculate_oob_score(X, Y, rng_states)\n",
        "    \n",
        "    def _create_tree(self, X, Y):\n",
        "        assert len(X) == len(Y), \"\"\n",
        "        n_samples = X.shape[0]\n",
        "\n",
        "        # get sub-sample \n",
        "        if self.bootstrap:\n",
        "            rand_idxs = self.RandomState.randint(0, n_samples, self.sample_size_) # with replacement\n",
        "            X_, Y_ = X.iloc[rand_idxs, :], Y[rand_idxs] # approximate unique values =n*(1-np.exp(-sample_size_/n_samples))\n",
        "        elif self.sample_size_ < n_samples:\n",
        "            rand_idxs = self.RandomState.permutation(np.arange(n_samples))[:self.sample_size_]  # without replacement\n",
        "            X_, Y_ = X.iloc[rand_idxs, :], Y[rand_idxs]\n",
        "        else:\n",
        "            X_, Y_ = X.copy(), Y.copy() # do nothing to the data\n",
        "\n",
        "        new_tree =  DecisionTree(max_depth=self.max_depth, \n",
        "                                 max_features=self.max_features,\n",
        "                                 random_state=self.RandomState,\n",
        "                                 min_samples_leaf=self.min_samples_leaf\n",
        "                                )\n",
        "        new_tree.fit(X_, Y_)\n",
        "        return new_tree\n",
        "                \n",
        "    def predict(self, X):\n",
        "        \"Predict the class for each sample in X\"\n",
        "        probs = np.sum([t.predict_prob(X) for t in self.trees], axis=0)\n",
        "        #probs = np.sum([t.predict_count(X) for t in self.trees], axis=0)\n",
        "        return np.nanargmax(probs, axis=1)\n",
        "\n",
        "    def score(self, X, y):\n",
        "        \"The accuracy score of random forest predictions for X to the true classes y\"\n",
        "        y_pred = self.predict(X)\n",
        "        return np.mean(y_pred==y)\n",
        "\n",
        "    def calculate_oob_score(self, X, Y, rng_states):\n",
        "        n_samples = X.shape[0]\n",
        "        oob_prob = np.zeros(Y.shape)\n",
        "        oob_count = np.zeros(n_samples)\n",
        "        all_samples = np.arange(n_samples)\n",
        "        rng = np.random.RandomState()\n",
        "        for i, state in enumerate(rng_states):\n",
        "            rng.set_state(state)\n",
        "            if self.bootstrap:\n",
        "                rand_idxs = rng.randint(0, n_samples, self.sample_size_)\n",
        "            else: #self.sample_size_ < n_samples\n",
        "                rand_idxs = rng.permutation(all_samples)[:self.sample_size_]\n",
        "            row_oob = np.setxor1d(all_samples, rand_idxs)\n",
        "            oob_prob[row_oob, :] += self.trees[i].predict_prob(X.iloc[row_oob])\n",
        "            oob_count[row_oob] += 1\n",
        "        # remove nan-values\n",
        "        valid = oob_count > 0 \n",
        "        oob_prob = oob_prob[valid, :]\n",
        "        oob_count = oob_count[valid][:, np.newaxis] # transform to column vector for broadcasting during the division\n",
        "        y_test    =  np.argmax(Y[valid], axis=1)\n",
        "        # predict out-of-bag score\n",
        "        y_pred = np.argmax(oob_prob/oob_count, axis=1)\n",
        "        return np.mean(y_pred==y_test)\n",
        "\n",
        "    def impurity_feature_importances(self) -> np.ndarray:\n",
        "        \"\"\"Calculate feature importance weighted by the number of samples affected by this feature at each split point. \"\"\"\n",
        "        feature_importances = np.zeros((self.n_trees, self.n_features))\n",
        "\n",
        "        for i, tree in enumerate(self.trees):\n",
        "            feature_importances[i, :] = tree.feature_importances_\n",
        "\n",
        "        return np.mean(feature_importances, axis=0)"
      ],
      "metadata": {
        "id": "C-KCDwSSf6U7"
      },
      "execution_count": null,
      "outputs": [],
      "id": "C-KCDwSSf6U7"
    },
    {
      "cell_type": "code",
      "source": [],
      "metadata": {
        "id": "qIqtY8QjEfps"
      },
      "id": "qIqtY8QjEfps",
      "execution_count": null,
      "outputs": []
    },
    {
      "cell_type": "markdown",
      "source": [
        "#**ADULT INCOME PREDICTION**\n",
        "\n",
        "---\n",
        "\n",
        "\n",
        "---\n",
        "\n"
      ],
      "metadata": {
        "id": "sJLFOgFY4HXd"
      },
      "id": "sJLFOgFY4HXd"
    },
    {
      "cell_type": "code",
      "source": [
        "import numpy as np\n",
        "import pandas as pd\n",
        "import matplotlib.pyplot as plt\n",
        "import seaborn as sns\n",
        "%matplotlib inline"
      ],
      "metadata": {
        "id": "8CuPYV2Vtdi5"
      },
      "execution_count": null,
      "outputs": [],
      "id": "8CuPYV2Vtdi5"
    },
    {
      "cell_type": "code",
      "source": [
        "df1=pd.read_csv('/content/adult_income.csv')\n",
        "df2=pd.read_csv('/content/adult_income1.csv')\n",
        "df1.head()"
      ],
      "metadata": {
        "colab": {
          "base_uri": "https://localhost:8080/",
          "height": 206
        },
        "id": "6QKYmd4ltqoO",
        "outputId": "2d230a75-5c13-4c65-932c-131b607297b3"
      },
      "execution_count": null,
      "outputs": [
        {
          "output_type": "execute_result",
          "data": {
            "text/plain": [
              "   age workclass  fnlwgt     education  education.num marital.status  \\\n",
              "0   90         ?   77053       HS-grad              9        Widowed   \n",
              "1   82   Private  132870       HS-grad              9        Widowed   \n",
              "2   66         ?  186061  Some-college             10        Widowed   \n",
              "3   54   Private  140359       7th-8th              4       Divorced   \n",
              "4   41   Private  264663  Some-college             10      Separated   \n",
              "\n",
              "          occupation   relationship  \n",
              "0                  ?  Not-in-family  \n",
              "1    Exec-managerial  Not-in-family  \n",
              "2                  ?      Unmarried  \n",
              "3  Machine-op-inspct      Unmarried  \n",
              "4     Prof-specialty      Own-child  "
            ],
            "text/html": [
              "\n",
              "  <div id=\"df-7b0a7fa3-909a-41cc-a95d-f2e659f558eb\">\n",
              "    <div class=\"colab-df-container\">\n",
              "      <div>\n",
              "<style scoped>\n",
              "    .dataframe tbody tr th:only-of-type {\n",
              "        vertical-align: middle;\n",
              "    }\n",
              "\n",
              "    .dataframe tbody tr th {\n",
              "        vertical-align: top;\n",
              "    }\n",
              "\n",
              "    .dataframe thead th {\n",
              "        text-align: right;\n",
              "    }\n",
              "</style>\n",
              "<table border=\"1\" class=\"dataframe\">\n",
              "  <thead>\n",
              "    <tr style=\"text-align: right;\">\n",
              "      <th></th>\n",
              "      <th>age</th>\n",
              "      <th>workclass</th>\n",
              "      <th>fnlwgt</th>\n",
              "      <th>education</th>\n",
              "      <th>education.num</th>\n",
              "      <th>marital.status</th>\n",
              "      <th>occupation</th>\n",
              "      <th>relationship</th>\n",
              "    </tr>\n",
              "  </thead>\n",
              "  <tbody>\n",
              "    <tr>\n",
              "      <th>0</th>\n",
              "      <td>90</td>\n",
              "      <td>?</td>\n",
              "      <td>77053</td>\n",
              "      <td>HS-grad</td>\n",
              "      <td>9</td>\n",
              "      <td>Widowed</td>\n",
              "      <td>?</td>\n",
              "      <td>Not-in-family</td>\n",
              "    </tr>\n",
              "    <tr>\n",
              "      <th>1</th>\n",
              "      <td>82</td>\n",
              "      <td>Private</td>\n",
              "      <td>132870</td>\n",
              "      <td>HS-grad</td>\n",
              "      <td>9</td>\n",
              "      <td>Widowed</td>\n",
              "      <td>Exec-managerial</td>\n",
              "      <td>Not-in-family</td>\n",
              "    </tr>\n",
              "    <tr>\n",
              "      <th>2</th>\n",
              "      <td>66</td>\n",
              "      <td>?</td>\n",
              "      <td>186061</td>\n",
              "      <td>Some-college</td>\n",
              "      <td>10</td>\n",
              "      <td>Widowed</td>\n",
              "      <td>?</td>\n",
              "      <td>Unmarried</td>\n",
              "    </tr>\n",
              "    <tr>\n",
              "      <th>3</th>\n",
              "      <td>54</td>\n",
              "      <td>Private</td>\n",
              "      <td>140359</td>\n",
              "      <td>7th-8th</td>\n",
              "      <td>4</td>\n",
              "      <td>Divorced</td>\n",
              "      <td>Machine-op-inspct</td>\n",
              "      <td>Unmarried</td>\n",
              "    </tr>\n",
              "    <tr>\n",
              "      <th>4</th>\n",
              "      <td>41</td>\n",
              "      <td>Private</td>\n",
              "      <td>264663</td>\n",
              "      <td>Some-college</td>\n",
              "      <td>10</td>\n",
              "      <td>Separated</td>\n",
              "      <td>Prof-specialty</td>\n",
              "      <td>Own-child</td>\n",
              "    </tr>\n",
              "  </tbody>\n",
              "</table>\n",
              "</div>\n",
              "      <button class=\"colab-df-convert\" onclick=\"convertToInteractive('df-7b0a7fa3-909a-41cc-a95d-f2e659f558eb')\"\n",
              "              title=\"Convert this dataframe to an interactive table.\"\n",
              "              style=\"display:none;\">\n",
              "        \n",
              "  <svg xmlns=\"http://www.w3.org/2000/svg\" height=\"24px\"viewBox=\"0 0 24 24\"\n",
              "       width=\"24px\">\n",
              "    <path d=\"M0 0h24v24H0V0z\" fill=\"none\"/>\n",
              "    <path d=\"M18.56 5.44l.94 2.06.94-2.06 2.06-.94-2.06-.94-.94-2.06-.94 2.06-2.06.94zm-11 1L8.5 8.5l.94-2.06 2.06-.94-2.06-.94L8.5 2.5l-.94 2.06-2.06.94zm10 10l.94 2.06.94-2.06 2.06-.94-2.06-.94-.94-2.06-.94 2.06-2.06.94z\"/><path d=\"M17.41 7.96l-1.37-1.37c-.4-.4-.92-.59-1.43-.59-.52 0-1.04.2-1.43.59L10.3 9.45l-7.72 7.72c-.78.78-.78 2.05 0 2.83L4 21.41c.39.39.9.59 1.41.59.51 0 1.02-.2 1.41-.59l7.78-7.78 2.81-2.81c.8-.78.8-2.07 0-2.86zM5.41 20L4 18.59l7.72-7.72 1.47 1.35L5.41 20z\"/>\n",
              "  </svg>\n",
              "      </button>\n",
              "      \n",
              "  <style>\n",
              "    .colab-df-container {\n",
              "      display:flex;\n",
              "      flex-wrap:wrap;\n",
              "      gap: 12px;\n",
              "    }\n",
              "\n",
              "    .colab-df-convert {\n",
              "      background-color: #E8F0FE;\n",
              "      border: none;\n",
              "      border-radius: 50%;\n",
              "      cursor: pointer;\n",
              "      display: none;\n",
              "      fill: #1967D2;\n",
              "      height: 32px;\n",
              "      padding: 0 0 0 0;\n",
              "      width: 32px;\n",
              "    }\n",
              "\n",
              "    .colab-df-convert:hover {\n",
              "      background-color: #E2EBFA;\n",
              "      box-shadow: 0px 1px 2px rgba(60, 64, 67, 0.3), 0px 1px 3px 1px rgba(60, 64, 67, 0.15);\n",
              "      fill: #174EA6;\n",
              "    }\n",
              "\n",
              "    [theme=dark] .colab-df-convert {\n",
              "      background-color: #3B4455;\n",
              "      fill: #D2E3FC;\n",
              "    }\n",
              "\n",
              "    [theme=dark] .colab-df-convert:hover {\n",
              "      background-color: #434B5C;\n",
              "      box-shadow: 0px 1px 3px 1px rgba(0, 0, 0, 0.15);\n",
              "      filter: drop-shadow(0px 1px 2px rgba(0, 0, 0, 0.3));\n",
              "      fill: #FFFFFF;\n",
              "    }\n",
              "  </style>\n",
              "\n",
              "      <script>\n",
              "        const buttonEl =\n",
              "          document.querySelector('#df-7b0a7fa3-909a-41cc-a95d-f2e659f558eb button.colab-df-convert');\n",
              "        buttonEl.style.display =\n",
              "          google.colab.kernel.accessAllowed ? 'block' : 'none';\n",
              "\n",
              "        async function convertToInteractive(key) {\n",
              "          const element = document.querySelector('#df-7b0a7fa3-909a-41cc-a95d-f2e659f558eb');\n",
              "          const dataTable =\n",
              "            await google.colab.kernel.invokeFunction('convertToInteractive',\n",
              "                                                     [key], {});\n",
              "          if (!dataTable) return;\n",
              "\n",
              "          const docLinkHtml = 'Like what you see? Visit the ' +\n",
              "            '<a target=\"_blank\" href=https://colab.research.google.com/notebooks/data_table.ipynb>data table notebook</a>'\n",
              "            + ' to learn more about interactive tables.';\n",
              "          element.innerHTML = '';\n",
              "          dataTable['output_type'] = 'display_data';\n",
              "          await google.colab.output.renderOutput(dataTable, element);\n",
              "          const docLink = document.createElement('div');\n",
              "          docLink.innerHTML = docLinkHtml;\n",
              "          element.appendChild(docLink);\n",
              "        }\n",
              "      </script>\n",
              "    </div>\n",
              "  </div>\n",
              "  "
            ]
          },
          "metadata": {},
          "execution_count": 145
        }
      ],
      "id": "6QKYmd4ltqoO"
    },
    {
      "cell_type": "code",
      "source": [
        "df2.head()"
      ],
      "metadata": {
        "colab": {
          "base_uri": "https://localhost:8080/",
          "height": 206
        },
        "id": "AzmhZ5z3GJtM",
        "outputId": "7870f45d-0874-4187-ad54-f60e2370bf2d"
      },
      "id": "AzmhZ5z3GJtM",
      "execution_count": null,
      "outputs": [
        {
          "output_type": "execute_result",
          "data": {
            "text/plain": [
              "          occupation   race     sex  capital.gain  capital.loss  \\\n",
              "0                  ?  White  Female             0          4356   \n",
              "1    Exec-managerial  White  Female             0          4356   \n",
              "2                  ?  Black  Female             0          4356   \n",
              "3  Machine-op-inspct  White  Female             0          3900   \n",
              "4     Prof-specialty  White  Female             0          3900   \n",
              "\n",
              "   hours.per.week native.country income  \n",
              "0              40  United-States  <=50K  \n",
              "1              18  United-States  <=50K  \n",
              "2              40  United-States  <=50K  \n",
              "3              40  United-States  <=50K  \n",
              "4              40  United-States  <=50K  "
            ],
            "text/html": [
              "\n",
              "  <div id=\"df-2b32b155-861a-4701-b6a8-27d273453cf4\">\n",
              "    <div class=\"colab-df-container\">\n",
              "      <div>\n",
              "<style scoped>\n",
              "    .dataframe tbody tr th:only-of-type {\n",
              "        vertical-align: middle;\n",
              "    }\n",
              "\n",
              "    .dataframe tbody tr th {\n",
              "        vertical-align: top;\n",
              "    }\n",
              "\n",
              "    .dataframe thead th {\n",
              "        text-align: right;\n",
              "    }\n",
              "</style>\n",
              "<table border=\"1\" class=\"dataframe\">\n",
              "  <thead>\n",
              "    <tr style=\"text-align: right;\">\n",
              "      <th></th>\n",
              "      <th>occupation</th>\n",
              "      <th>race</th>\n",
              "      <th>sex</th>\n",
              "      <th>capital.gain</th>\n",
              "      <th>capital.loss</th>\n",
              "      <th>hours.per.week</th>\n",
              "      <th>native.country</th>\n",
              "      <th>income</th>\n",
              "    </tr>\n",
              "  </thead>\n",
              "  <tbody>\n",
              "    <tr>\n",
              "      <th>0</th>\n",
              "      <td>?</td>\n",
              "      <td>White</td>\n",
              "      <td>Female</td>\n",
              "      <td>0</td>\n",
              "      <td>4356</td>\n",
              "      <td>40</td>\n",
              "      <td>United-States</td>\n",
              "      <td>&lt;=50K</td>\n",
              "    </tr>\n",
              "    <tr>\n",
              "      <th>1</th>\n",
              "      <td>Exec-managerial</td>\n",
              "      <td>White</td>\n",
              "      <td>Female</td>\n",
              "      <td>0</td>\n",
              "      <td>4356</td>\n",
              "      <td>18</td>\n",
              "      <td>United-States</td>\n",
              "      <td>&lt;=50K</td>\n",
              "    </tr>\n",
              "    <tr>\n",
              "      <th>2</th>\n",
              "      <td>?</td>\n",
              "      <td>Black</td>\n",
              "      <td>Female</td>\n",
              "      <td>0</td>\n",
              "      <td>4356</td>\n",
              "      <td>40</td>\n",
              "      <td>United-States</td>\n",
              "      <td>&lt;=50K</td>\n",
              "    </tr>\n",
              "    <tr>\n",
              "      <th>3</th>\n",
              "      <td>Machine-op-inspct</td>\n",
              "      <td>White</td>\n",
              "      <td>Female</td>\n",
              "      <td>0</td>\n",
              "      <td>3900</td>\n",
              "      <td>40</td>\n",
              "      <td>United-States</td>\n",
              "      <td>&lt;=50K</td>\n",
              "    </tr>\n",
              "    <tr>\n",
              "      <th>4</th>\n",
              "      <td>Prof-specialty</td>\n",
              "      <td>White</td>\n",
              "      <td>Female</td>\n",
              "      <td>0</td>\n",
              "      <td>3900</td>\n",
              "      <td>40</td>\n",
              "      <td>United-States</td>\n",
              "      <td>&lt;=50K</td>\n",
              "    </tr>\n",
              "  </tbody>\n",
              "</table>\n",
              "</div>\n",
              "      <button class=\"colab-df-convert\" onclick=\"convertToInteractive('df-2b32b155-861a-4701-b6a8-27d273453cf4')\"\n",
              "              title=\"Convert this dataframe to an interactive table.\"\n",
              "              style=\"display:none;\">\n",
              "        \n",
              "  <svg xmlns=\"http://www.w3.org/2000/svg\" height=\"24px\"viewBox=\"0 0 24 24\"\n",
              "       width=\"24px\">\n",
              "    <path d=\"M0 0h24v24H0V0z\" fill=\"none\"/>\n",
              "    <path d=\"M18.56 5.44l.94 2.06.94-2.06 2.06-.94-2.06-.94-.94-2.06-.94 2.06-2.06.94zm-11 1L8.5 8.5l.94-2.06 2.06-.94-2.06-.94L8.5 2.5l-.94 2.06-2.06.94zm10 10l.94 2.06.94-2.06 2.06-.94-2.06-.94-.94-2.06-.94 2.06-2.06.94z\"/><path d=\"M17.41 7.96l-1.37-1.37c-.4-.4-.92-.59-1.43-.59-.52 0-1.04.2-1.43.59L10.3 9.45l-7.72 7.72c-.78.78-.78 2.05 0 2.83L4 21.41c.39.39.9.59 1.41.59.51 0 1.02-.2 1.41-.59l7.78-7.78 2.81-2.81c.8-.78.8-2.07 0-2.86zM5.41 20L4 18.59l7.72-7.72 1.47 1.35L5.41 20z\"/>\n",
              "  </svg>\n",
              "      </button>\n",
              "      \n",
              "  <style>\n",
              "    .colab-df-container {\n",
              "      display:flex;\n",
              "      flex-wrap:wrap;\n",
              "      gap: 12px;\n",
              "    }\n",
              "\n",
              "    .colab-df-convert {\n",
              "      background-color: #E8F0FE;\n",
              "      border: none;\n",
              "      border-radius: 50%;\n",
              "      cursor: pointer;\n",
              "      display: none;\n",
              "      fill: #1967D2;\n",
              "      height: 32px;\n",
              "      padding: 0 0 0 0;\n",
              "      width: 32px;\n",
              "    }\n",
              "\n",
              "    .colab-df-convert:hover {\n",
              "      background-color: #E2EBFA;\n",
              "      box-shadow: 0px 1px 2px rgba(60, 64, 67, 0.3), 0px 1px 3px 1px rgba(60, 64, 67, 0.15);\n",
              "      fill: #174EA6;\n",
              "    }\n",
              "\n",
              "    [theme=dark] .colab-df-convert {\n",
              "      background-color: #3B4455;\n",
              "      fill: #D2E3FC;\n",
              "    }\n",
              "\n",
              "    [theme=dark] .colab-df-convert:hover {\n",
              "      background-color: #434B5C;\n",
              "      box-shadow: 0px 1px 3px 1px rgba(0, 0, 0, 0.15);\n",
              "      filter: drop-shadow(0px 1px 2px rgba(0, 0, 0, 0.3));\n",
              "      fill: #FFFFFF;\n",
              "    }\n",
              "  </style>\n",
              "\n",
              "      <script>\n",
              "        const buttonEl =\n",
              "          document.querySelector('#df-2b32b155-861a-4701-b6a8-27d273453cf4 button.colab-df-convert');\n",
              "        buttonEl.style.display =\n",
              "          google.colab.kernel.accessAllowed ? 'block' : 'none';\n",
              "\n",
              "        async function convertToInteractive(key) {\n",
              "          const element = document.querySelector('#df-2b32b155-861a-4701-b6a8-27d273453cf4');\n",
              "          const dataTable =\n",
              "            await google.colab.kernel.invokeFunction('convertToInteractive',\n",
              "                                                     [key], {});\n",
              "          if (!dataTable) return;\n",
              "\n",
              "          const docLinkHtml = 'Like what you see? Visit the ' +\n",
              "            '<a target=\"_blank\" href=https://colab.research.google.com/notebooks/data_table.ipynb>data table notebook</a>'\n",
              "            + ' to learn more about interactive tables.';\n",
              "          element.innerHTML = '';\n",
              "          dataTable['output_type'] = 'display_data';\n",
              "          await google.colab.output.renderOutput(dataTable, element);\n",
              "          const docLink = document.createElement('div');\n",
              "          docLink.innerHTML = docLinkHtml;\n",
              "          element.appendChild(docLink);\n",
              "        }\n",
              "      </script>\n",
              "    </div>\n",
              "  </div>\n",
              "  "
            ]
          },
          "metadata": {},
          "execution_count": 146
        }
      ]
    },
    {
      "cell_type": "code",
      "source": [
        "#Adding new feature 'Index'\n",
        "df1 = df1.reset_index(drop=True)\n",
        "df1['index']=df1.index"
      ],
      "metadata": {
        "id": "hB2BZdIjxqR6"
      },
      "execution_count": null,
      "outputs": [],
      "id": "hB2BZdIjxqR6"
    },
    {
      "cell_type": "code",
      "source": [
        "#Adding new feature 'Index'\n",
        "df2 = df2.reset_index(drop=True)\n",
        "df2['index']=df2.index"
      ],
      "metadata": {
        "id": "N9TbqY7qxdeI"
      },
      "execution_count": null,
      "outputs": [],
      "id": "N9TbqY7qxdeI"
    },
    {
      "cell_type": "code",
      "source": [
        "df1.shape,df2.shape"
      ],
      "metadata": {
        "colab": {
          "base_uri": "https://localhost:8080/"
        },
        "id": "ji7pdfSVuGSi",
        "outputId": "29670733-ef5f-4aa7-8099-428c565071c4"
      },
      "execution_count": null,
      "outputs": [
        {
          "output_type": "execute_result",
          "data": {
            "text/plain": [
              "((32561, 9), (32561, 9))"
            ]
          },
          "metadata": {},
          "execution_count": 149
        }
      ],
      "id": "ji7pdfSVuGSi"
    },
    {
      "cell_type": "code",
      "source": [
        "df2.drop(['occupation'],axis=1,inplace=True)"
      ],
      "metadata": {
        "id": "aobxbv4GzDu6"
      },
      "execution_count": null,
      "outputs": [],
      "id": "aobxbv4GzDu6"
    },
    {
      "cell_type": "code",
      "source": [
        "# Joinng both df1 and df2 based on index column \n",
        "df = pd.merge(left = df1, right=df2, on = [\"index\"], how = \"inner\")"
      ],
      "metadata": {
        "id": "J-5JGu1SuOVk"
      },
      "execution_count": null,
      "outputs": [],
      "id": "J-5JGu1SuOVk"
    },
    {
      "cell_type": "code",
      "source": [
        "df.drop(['index'],axis=1,inplace=True)\n",
        "df.head()"
      ],
      "metadata": {
        "colab": {
          "base_uri": "https://localhost:8080/",
          "height": 339
        },
        "id": "ms0__8N-vJFQ",
        "outputId": "1a6d4804-a021-4ac5-e4b0-d9331b9e6c5b"
      },
      "execution_count": null,
      "outputs": [
        {
          "output_type": "execute_result",
          "data": {
            "text/plain": [
              "   age workclass  fnlwgt     education  education.num marital.status  \\\n",
              "0   90         ?   77053       HS-grad              9        Widowed   \n",
              "1   82   Private  132870       HS-grad              9        Widowed   \n",
              "2   66         ?  186061  Some-college             10        Widowed   \n",
              "3   54   Private  140359       7th-8th              4       Divorced   \n",
              "4   41   Private  264663  Some-college             10      Separated   \n",
              "\n",
              "          occupation   relationship   race     sex  capital.gain  \\\n",
              "0                  ?  Not-in-family  White  Female             0   \n",
              "1    Exec-managerial  Not-in-family  White  Female             0   \n",
              "2                  ?      Unmarried  Black  Female             0   \n",
              "3  Machine-op-inspct      Unmarried  White  Female             0   \n",
              "4     Prof-specialty      Own-child  White  Female             0   \n",
              "\n",
              "   capital.loss  hours.per.week native.country income  \n",
              "0          4356              40  United-States  <=50K  \n",
              "1          4356              18  United-States  <=50K  \n",
              "2          4356              40  United-States  <=50K  \n",
              "3          3900              40  United-States  <=50K  \n",
              "4          3900              40  United-States  <=50K  "
            ],
            "text/html": [
              "\n",
              "  <div id=\"df-d06524f0-1853-4912-bc4b-aca806ebd050\">\n",
              "    <div class=\"colab-df-container\">\n",
              "      <div>\n",
              "<style scoped>\n",
              "    .dataframe tbody tr th:only-of-type {\n",
              "        vertical-align: middle;\n",
              "    }\n",
              "\n",
              "    .dataframe tbody tr th {\n",
              "        vertical-align: top;\n",
              "    }\n",
              "\n",
              "    .dataframe thead th {\n",
              "        text-align: right;\n",
              "    }\n",
              "</style>\n",
              "<table border=\"1\" class=\"dataframe\">\n",
              "  <thead>\n",
              "    <tr style=\"text-align: right;\">\n",
              "      <th></th>\n",
              "      <th>age</th>\n",
              "      <th>workclass</th>\n",
              "      <th>fnlwgt</th>\n",
              "      <th>education</th>\n",
              "      <th>education.num</th>\n",
              "      <th>marital.status</th>\n",
              "      <th>occupation</th>\n",
              "      <th>relationship</th>\n",
              "      <th>race</th>\n",
              "      <th>sex</th>\n",
              "      <th>capital.gain</th>\n",
              "      <th>capital.loss</th>\n",
              "      <th>hours.per.week</th>\n",
              "      <th>native.country</th>\n",
              "      <th>income</th>\n",
              "    </tr>\n",
              "  </thead>\n",
              "  <tbody>\n",
              "    <tr>\n",
              "      <th>0</th>\n",
              "      <td>90</td>\n",
              "      <td>?</td>\n",
              "      <td>77053</td>\n",
              "      <td>HS-grad</td>\n",
              "      <td>9</td>\n",
              "      <td>Widowed</td>\n",
              "      <td>?</td>\n",
              "      <td>Not-in-family</td>\n",
              "      <td>White</td>\n",
              "      <td>Female</td>\n",
              "      <td>0</td>\n",
              "      <td>4356</td>\n",
              "      <td>40</td>\n",
              "      <td>United-States</td>\n",
              "      <td>&lt;=50K</td>\n",
              "    </tr>\n",
              "    <tr>\n",
              "      <th>1</th>\n",
              "      <td>82</td>\n",
              "      <td>Private</td>\n",
              "      <td>132870</td>\n",
              "      <td>HS-grad</td>\n",
              "      <td>9</td>\n",
              "      <td>Widowed</td>\n",
              "      <td>Exec-managerial</td>\n",
              "      <td>Not-in-family</td>\n",
              "      <td>White</td>\n",
              "      <td>Female</td>\n",
              "      <td>0</td>\n",
              "      <td>4356</td>\n",
              "      <td>18</td>\n",
              "      <td>United-States</td>\n",
              "      <td>&lt;=50K</td>\n",
              "    </tr>\n",
              "    <tr>\n",
              "      <th>2</th>\n",
              "      <td>66</td>\n",
              "      <td>?</td>\n",
              "      <td>186061</td>\n",
              "      <td>Some-college</td>\n",
              "      <td>10</td>\n",
              "      <td>Widowed</td>\n",
              "      <td>?</td>\n",
              "      <td>Unmarried</td>\n",
              "      <td>Black</td>\n",
              "      <td>Female</td>\n",
              "      <td>0</td>\n",
              "      <td>4356</td>\n",
              "      <td>40</td>\n",
              "      <td>United-States</td>\n",
              "      <td>&lt;=50K</td>\n",
              "    </tr>\n",
              "    <tr>\n",
              "      <th>3</th>\n",
              "      <td>54</td>\n",
              "      <td>Private</td>\n",
              "      <td>140359</td>\n",
              "      <td>7th-8th</td>\n",
              "      <td>4</td>\n",
              "      <td>Divorced</td>\n",
              "      <td>Machine-op-inspct</td>\n",
              "      <td>Unmarried</td>\n",
              "      <td>White</td>\n",
              "      <td>Female</td>\n",
              "      <td>0</td>\n",
              "      <td>3900</td>\n",
              "      <td>40</td>\n",
              "      <td>United-States</td>\n",
              "      <td>&lt;=50K</td>\n",
              "    </tr>\n",
              "    <tr>\n",
              "      <th>4</th>\n",
              "      <td>41</td>\n",
              "      <td>Private</td>\n",
              "      <td>264663</td>\n",
              "      <td>Some-college</td>\n",
              "      <td>10</td>\n",
              "      <td>Separated</td>\n",
              "      <td>Prof-specialty</td>\n",
              "      <td>Own-child</td>\n",
              "      <td>White</td>\n",
              "      <td>Female</td>\n",
              "      <td>0</td>\n",
              "      <td>3900</td>\n",
              "      <td>40</td>\n",
              "      <td>United-States</td>\n",
              "      <td>&lt;=50K</td>\n",
              "    </tr>\n",
              "  </tbody>\n",
              "</table>\n",
              "</div>\n",
              "      <button class=\"colab-df-convert\" onclick=\"convertToInteractive('df-d06524f0-1853-4912-bc4b-aca806ebd050')\"\n",
              "              title=\"Convert this dataframe to an interactive table.\"\n",
              "              style=\"display:none;\">\n",
              "        \n",
              "  <svg xmlns=\"http://www.w3.org/2000/svg\" height=\"24px\"viewBox=\"0 0 24 24\"\n",
              "       width=\"24px\">\n",
              "    <path d=\"M0 0h24v24H0V0z\" fill=\"none\"/>\n",
              "    <path d=\"M18.56 5.44l.94 2.06.94-2.06 2.06-.94-2.06-.94-.94-2.06-.94 2.06-2.06.94zm-11 1L8.5 8.5l.94-2.06 2.06-.94-2.06-.94L8.5 2.5l-.94 2.06-2.06.94zm10 10l.94 2.06.94-2.06 2.06-.94-2.06-.94-.94-2.06-.94 2.06-2.06.94z\"/><path d=\"M17.41 7.96l-1.37-1.37c-.4-.4-.92-.59-1.43-.59-.52 0-1.04.2-1.43.59L10.3 9.45l-7.72 7.72c-.78.78-.78 2.05 0 2.83L4 21.41c.39.39.9.59 1.41.59.51 0 1.02-.2 1.41-.59l7.78-7.78 2.81-2.81c.8-.78.8-2.07 0-2.86zM5.41 20L4 18.59l7.72-7.72 1.47 1.35L5.41 20z\"/>\n",
              "  </svg>\n",
              "      </button>\n",
              "      \n",
              "  <style>\n",
              "    .colab-df-container {\n",
              "      display:flex;\n",
              "      flex-wrap:wrap;\n",
              "      gap: 12px;\n",
              "    }\n",
              "\n",
              "    .colab-df-convert {\n",
              "      background-color: #E8F0FE;\n",
              "      border: none;\n",
              "      border-radius: 50%;\n",
              "      cursor: pointer;\n",
              "      display: none;\n",
              "      fill: #1967D2;\n",
              "      height: 32px;\n",
              "      padding: 0 0 0 0;\n",
              "      width: 32px;\n",
              "    }\n",
              "\n",
              "    .colab-df-convert:hover {\n",
              "      background-color: #E2EBFA;\n",
              "      box-shadow: 0px 1px 2px rgba(60, 64, 67, 0.3), 0px 1px 3px 1px rgba(60, 64, 67, 0.15);\n",
              "      fill: #174EA6;\n",
              "    }\n",
              "\n",
              "    [theme=dark] .colab-df-convert {\n",
              "      background-color: #3B4455;\n",
              "      fill: #D2E3FC;\n",
              "    }\n",
              "\n",
              "    [theme=dark] .colab-df-convert:hover {\n",
              "      background-color: #434B5C;\n",
              "      box-shadow: 0px 1px 3px 1px rgba(0, 0, 0, 0.15);\n",
              "      filter: drop-shadow(0px 1px 2px rgba(0, 0, 0, 0.3));\n",
              "      fill: #FFFFFF;\n",
              "    }\n",
              "  </style>\n",
              "\n",
              "      <script>\n",
              "        const buttonEl =\n",
              "          document.querySelector('#df-d06524f0-1853-4912-bc4b-aca806ebd050 button.colab-df-convert');\n",
              "        buttonEl.style.display =\n",
              "          google.colab.kernel.accessAllowed ? 'block' : 'none';\n",
              "\n",
              "        async function convertToInteractive(key) {\n",
              "          const element = document.querySelector('#df-d06524f0-1853-4912-bc4b-aca806ebd050');\n",
              "          const dataTable =\n",
              "            await google.colab.kernel.invokeFunction('convertToInteractive',\n",
              "                                                     [key], {});\n",
              "          if (!dataTable) return;\n",
              "\n",
              "          const docLinkHtml = 'Like what you see? Visit the ' +\n",
              "            '<a target=\"_blank\" href=https://colab.research.google.com/notebooks/data_table.ipynb>data table notebook</a>'\n",
              "            + ' to learn more about interactive tables.';\n",
              "          element.innerHTML = '';\n",
              "          dataTable['output_type'] = 'display_data';\n",
              "          await google.colab.output.renderOutput(dataTable, element);\n",
              "          const docLink = document.createElement('div');\n",
              "          docLink.innerHTML = docLinkHtml;\n",
              "          element.appendChild(docLink);\n",
              "        }\n",
              "      </script>\n",
              "    </div>\n",
              "  </div>\n",
              "  "
            ]
          },
          "metadata": {},
          "execution_count": 152
        }
      ],
      "id": "ms0__8N-vJFQ"
    },
    {
      "cell_type": "code",
      "source": [
        "df.shape"
      ],
      "metadata": {
        "colab": {
          "base_uri": "https://localhost:8080/"
        },
        "id": "c3yp7mCPySGE",
        "outputId": "55a35e70-a0e2-4b56-d957-c05f17d01b1f"
      },
      "execution_count": null,
      "outputs": [
        {
          "output_type": "execute_result",
          "data": {
            "text/plain": [
              "(32561, 15)"
            ]
          },
          "metadata": {},
          "execution_count": 153
        }
      ],
      "id": "c3yp7mCPySGE"
    },
    {
      "cell_type": "code",
      "source": [
        "# TARGET DISTRIBUTION PLOT\n",
        "print(df['income'].value_counts()) \n",
        "plt.style.use('fivethirtyeight')\n",
        "ax = sns.countplot(x=df.income, data=df, hue=df.income)"
      ],
      "metadata": {
        "colab": {
          "base_uri": "https://localhost:8080/",
          "height": 355
        },
        "id": "IS7Y8yT0Hj89",
        "outputId": "9e9bc44f-8e43-4e6a-eeb9-55a67765cb81"
      },
      "id": "IS7Y8yT0Hj89",
      "execution_count": null,
      "outputs": [
        {
          "output_type": "stream",
          "name": "stdout",
          "text": [
            "<=50K    24720\n",
            ">50K      7841\n",
            "Name: income, dtype: int64\n"
          ]
        },
        {
          "output_type": "display_data",
          "data": {
            "text/plain": [
              "<Figure size 432x288 with 1 Axes>"
            ],
            "image/png": "[encoded data removed]"
          },
          "metadata": {}
        }
      ]
    },
    {
      "cell_type": "markdown",
      "source": [
        "###**DATA PREPROCESSING**"
      ],
      "metadata": {
        "id": "SJGPj3O_H7ez"
      },
      "id": "SJGPj3O_H7ez"
    },
    {
      "cell_type": "code",
      "source": [
        "df.info()"
      ],
      "metadata": {
        "colab": {
          "base_uri": "https://localhost:8080/"
        },
        "id": "ChhiKExZH0wP",
        "outputId": "d00f9a38-22a2-46b6-9e0f-9421bbd3f987"
      },
      "id": "ChhiKExZH0wP",
      "execution_count": null,
      "outputs": [
        {
          "output_type": "stream",
          "name": "stdout",
          "text": [
            "<class 'pandas.core.frame.DataFrame'>\n",
            "Int64Index: 32561 entries, 0 to 32560\n",
            "Data columns (total 15 columns):\n",
            " #   Column          Non-Null Count  Dtype \n",
            "---  ------          --------------  ----- \n",
            " 0   age             32561 non-null  int64 \n",
            " 1   workclass       32561 non-null  object\n",
            " 2   fnlwgt          32561 non-null  int64 \n",
            " 3   education       32561 non-null  object\n",
            " 4   education.num   32561 non-null  int64 \n",
            " 5   marital.status  32561 non-null  object\n",
            " 6   occupation      32561 non-null  object\n",
            " 7   relationship    32561 non-null  object\n",
            " 8   race            32561 non-null  object\n",
            " 9   sex             32561 non-null  object\n",
            " 10  capital.gain    32561 non-null  int64 \n",
            " 11  capital.loss    32561 non-null  int64 \n",
            " 12  hours.per.week  32561 non-null  int64 \n",
            " 13  native.country  32561 non-null  object\n",
            " 14  income          32561 non-null  object\n",
            "dtypes: int64(6), object(9)\n",
            "memory usage: 5.0+ MB\n"
          ]
        }
      ]
    },
    {
      "cell_type": "markdown",
      "source": [
        " Here we can notice that there is no information is missing.\n",
        " \n",
        " On some features, there are ‘?’, which indicated unknow information."
      ],
      "metadata": {
        "id": "wnC9HP-KIMD4"
      },
      "id": "wnC9HP-KIMD4"
    },
    {
      "cell_type": "code",
      "source": [
        "#Checking for duplication of data\n",
        "df.duplicated().sum()"
      ],
      "metadata": {
        "colab": {
          "base_uri": "https://localhost:8080/"
        },
        "id": "oYVzrioXIARR",
        "outputId": "9407de59-8f90-45bc-ffeb-27118ddc988f"
      },
      "id": "oYVzrioXIARR",
      "execution_count": null,
      "outputs": [
        {
          "output_type": "execute_result",
          "data": {
            "text/plain": [
              "24"
            ]
          },
          "metadata": {},
          "execution_count": 156
        }
      ]
    },
    {
      "cell_type": "code",
      "source": [
        "df = df.drop_duplicates()\n",
        "df.shape"
      ],
      "metadata": {
        "colab": {
          "base_uri": "https://localhost:8080/"
        },
        "id": "YS6niC29InDh",
        "outputId": "de8809ca-e77f-4232-e938-e92b976e8582"
      },
      "id": "YS6niC29InDh",
      "execution_count": null,
      "outputs": [
        {
          "output_type": "execute_result",
          "data": {
            "text/plain": [
              "(32537, 15)"
            ]
          },
          "metadata": {},
          "execution_count": 157
        }
      ]
    },
    {
      "cell_type": "markdown",
      "source": [
        "**Exploratory Analysis on data**"
      ],
      "metadata": {
        "id": "ZhFM3jxkJsup"
      },
      "id": "ZhFM3jxkJsup"
    },
    {
      "cell_type": "code",
      "source": [
        "# Taking a look at the target (income) \n",
        "print(f\"Ratio of income above 50k : {(df['income'] == '>50K').astype('int').sum() / df.shape[0] * 100 :.2f}%\")"
      ],
      "metadata": {
        "colab": {
          "base_uri": "https://localhost:8080/"
        },
        "id": "OFW8jhGRJNEs",
        "outputId": "e27ca1f2-44c5-45c4-b450-2cb6a0872982"
      },
      "id": "OFW8jhGRJNEs",
      "execution_count": null,
      "outputs": [
        {
          "output_type": "stream",
          "name": "stdout",
          "text": [
            "Ratio of income above 50k : 24.09%\n"
          ]
        }
      ]
    },
    {
      "cell_type": "code",
      "source": [
        "cat_col = df.select_dtypes(include=['object']).columns\n",
        "cat_col"
      ],
      "metadata": {
        "colab": {
          "base_uri": "https://localhost:8080/"
        },
        "id": "RmQ7GKhjIrxt",
        "outputId": "d1ee898c-c13b-491b-b2b1-c8636a8c48f2"
      },
      "id": "RmQ7GKhjIrxt",
      "execution_count": null,
      "outputs": [
        {
          "output_type": "execute_result",
          "data": {
            "text/plain": [
              "Index(['workclass', 'education', 'marital.status', 'occupation',\n",
              "       'relationship', 'race', 'sex', 'native.country', 'income'],\n",
              "      dtype='object')"
            ]
          },
          "metadata": {},
          "execution_count": 159
        }
      ]
    },
    {
      "cell_type": "code",
      "source": [
        "#Checking for '?' in categorcal features\n",
        "print('% of missing values :')\n",
        "for c in cat_col:\n",
        "    perc = len(df[df[c] == '?']) / df.shape[0] * 100\n",
        "    print(c, f'{perc:.1f} %')"
      ],
      "metadata": {
        "colab": {
          "base_uri": "https://localhost:8080/"
        },
        "id": "Rh27fpbyI9YF",
        "outputId": "23c8f47c-e938-4bb0-9308-307fffa525b2"
      },
      "id": "Rh27fpbyI9YF",
      "execution_count": null,
      "outputs": [
        {
          "output_type": "stream",
          "name": "stdout",
          "text": [
            "% of missing values :\n",
            "workclass 5.6 %\n",
            "education 0.0 %\n",
            "marital.status 0.0 %\n",
            "occupation 5.7 %\n",
            "relationship 0.0 %\n",
            "race 0.0 %\n",
            "sex 0.0 %\n",
            "native.country 1.8 %\n",
            "income 0.0 %\n"
          ]
        }
      ]
    },
    {
      "cell_type": "markdown",
      "source": [
        "**Income based on sex**"
      ],
      "metadata": {
        "id": "Ff9rhJFBNuPn"
      },
      "id": "Ff9rhJFBNuPn"
    },
    {
      "cell_type": "code",
      "source": [
        "plt.style.use('fivethirtyeight')\n",
        "ax = sns.countplot(x=df.sex, data=df, hue=df.income)"
      ],
      "metadata": {
        "colab": {
          "base_uri": "https://localhost:8080/",
          "height": 300
        },
        "id": "uRf1cy5XKhCI",
        "outputId": "cadb562d-5e37-4a02-dbc6-7236af7eb7dc"
      },
      "id": "uRf1cy5XKhCI",
      "execution_count": null,
      "outputs": [
        {
          "output_type": "display_data",
          "data": {
            "text/plain": [
              "<Figure size 432x288 with 1 Axes>"
            ],
            "image/png": "[encoded data removed]"
          },
          "metadata": {}
        }
      ]
    },
    {
      "cell_type": "markdown",
      "source": [
        "**There are more male earning  both >50k and <50k than female. So the counts need to be normalized.**"
      ],
      "metadata": {
        "id": "rsGh02XCLzYo"
      },
      "id": "rsGh02XCLzYo"
    },
    {
      "cell_type": "code",
      "source": [
        "# no of female / male\n",
        "no_female = (df.sex == 'Female').astype('int').sum()\n",
        "no_male = (df.sex == 'Male').astype('int').sum()\n",
        "no_female, no_male"
      ],
      "metadata": {
        "colab": {
          "base_uri": "https://localhost:8080/"
        },
        "id": "UqS93HboMi0A",
        "outputId": "072e8393-79ee-4ce8-eb92-10e43455d7f8"
      },
      "id": "UqS93HboMi0A",
      "execution_count": null,
      "outputs": [
        {
          "output_type": "execute_result",
          "data": {
            "text/plain": [
              "(10762, 21775)"
            ]
          },
          "metadata": {},
          "execution_count": 162
        }
      ]
    },
    {
      "cell_type": "code",
      "source": [
        "# no of people earning more or less than 50k per gender\n",
        "no_male_above = len(df[(df.income == '>50K') & (df.sex == 'Male')])\n",
        "no_male_below = len(df[(df.income == '<=50K') & (df.sex == 'Male')])\n",
        "no_female_above = len(df[(df.income == '>50K') & (df.sex == 'Female')])\n",
        "no_female_below = len(df[(df.income == '<=50K') & (df.sex == 'Female')])\n",
        "no_male_above, no_male_below, no_female_above, no_female_below"
      ],
      "metadata": {
        "colab": {
          "base_uri": "https://localhost:8080/"
        },
        "id": "bQGUr721LlEA",
        "outputId": "e24fc0d9-822f-4af7-ee31-b4eff36a4dad"
      },
      "id": "bQGUr721LlEA",
      "execution_count": null,
      "outputs": [
        {
          "output_type": "execute_result",
          "data": {
            "text/plain": [
              "(6660, 15115, 1179, 9583)"
            ]
          },
          "metadata": {},
          "execution_count": 163
        }
      ]
    },
    {
      "cell_type": "code",
      "source": [
        "# normalization\n",
        "no_male_above /= no_male \n",
        "no_male_below /= no_male\n",
        "no_female_above /= no_female\n",
        "no_female_below /= no_female\n",
        "no_male_above, no_male_below, no_female_above, no_female_below"
      ],
      "metadata": {
        "colab": {
          "base_uri": "https://localhost:8080/"
        },
        "id": "_MGPyg0xMXnZ",
        "outputId": "a696e631-7f9b-4bdf-cd61-b49430cefe7c"
      },
      "id": "_MGPyg0xMXnZ",
      "execution_count": null,
      "outputs": [
        {
          "output_type": "execute_result",
          "data": {
            "text/plain": [
              "(0.3058553386911596,\n",
              " 0.6941446613088404,\n",
              " 0.1095521278572756,\n",
              " 0.8904478721427244)"
            ]
          },
          "metadata": {},
          "execution_count": 164
        }
      ]
    },
    {
      "cell_type": "code",
      "source": [
        "print(f'Among people earning >50K  : {no_male_above / (no_male_above + no_female_above) *100 :.0f}% are Females and {no_female_above / (no_male_above + no_female_above) *100 :.0f}% are Males')\n",
        "print(f'Among people earning =<50K : {no_male_below / (no_male_below + no_female_below) *100 :.0f}% are Females and {no_female_below / (no_male_below + no_female_below) *100 :.0f}% are Males')"
      ],
      "metadata": {
        "colab": {
          "base_uri": "https://localhost:8080/"
        },
        "id": "7NTMmnKuNRKp",
        "outputId": "72a1d0f1-16a6-468e-ab1d-881a8c66fcdd"
      },
      "id": "7NTMmnKuNRKp",
      "execution_count": null,
      "outputs": [
        {
          "output_type": "stream",
          "name": "stdout",
          "text": [
            "Among people earning >50K  : 74% are Females and 26% are Males\n",
            "Among people earning =<50K : 44% are Females and 56% are Males\n"
          ]
        }
      ]
    },
    {
      "cell_type": "code",
      "source": [
        "#Taking only numerical features for analysis\n",
        "num_col = df.select_dtypes(include=['float', 'int']).columns\n",
        "num_col"
      ],
      "metadata": {
        "colab": {
          "base_uri": "https://localhost:8080/"
        },
        "id": "6XFOxjuDOfjV",
        "outputId": "a0d6d35b-8856-4878-a19c-086f3a0634e5"
      },
      "id": "6XFOxjuDOfjV",
      "execution_count": null,
      "outputs": [
        {
          "output_type": "execute_result",
          "data": {
            "text/plain": [
              "Index(['age', 'fnlwgt', 'education.num', 'capital.gain', 'capital.loss',\n",
              "       'hours.per.week'],\n",
              "      dtype='object')"
            ]
          },
          "metadata": {},
          "execution_count": 166
        }
      ]
    },
    {
      "cell_type": "code",
      "source": [
        "sns.set(style=\"white\")\n",
        "# Compute the correlation matrix\n",
        "corr = df[num_col].corr()\n",
        "\n",
        "# Generate a mask for the upper triangle\n",
        "mask = np.zeros_like(corr, dtype=np.bool)\n",
        "mask[np.triu_indices_from(mask)] = True\n",
        "\n",
        "# Set up the matplotlib figure\n",
        "f, ax = plt.subplots(figsize=(7, 6))\n",
        "\n",
        "# Generate a custom diverging colormap\n",
        "cmap = sns.diverging_palette(220, 10, as_cmap=True)\n",
        "\n",
        "# Draw the heatmap with the mask and correct aspect ratio\n",
        "sns.heatmap(corr, mask=mask, cmap=cmap, vmax=.3, center=0,\n",
        "            square=True, linewidths=.5, annot=True, cbar_kws={\"shrink\": .5})"
      ],
      "metadata": {
        "colab": {
          "base_uri": "https://localhost:8080/",
          "height": 568
        },
        "id": "nebmti9aPlHw",
        "outputId": "5aa4caab-adfd-434f-9b58-e65ca12f2a6e"
      },
      "id": "nebmti9aPlHw",
      "execution_count": null,
      "outputs": [
        {
          "output_type": "stream",
          "name": "stderr",
          "text": [
            "<ipython-input-167-6fcfb7df8b29>:6: DeprecationWarning: `np.bool` is a deprecated alias for the builtin `bool`. To silence this warning, use `bool` by itself. Doing this will not modify any behavior and is safe. If you specifically wanted the numpy scalar type, use `np.bool_` here.\n",
            "Deprecated in NumPy 1.20; for more details and guidance: https://numpy.org/devdocs/release/1.20.0-notes.html#deprecations\n",
            "  mask = np.zeros_like(corr, dtype=np.bool)\n"
          ]
        },
        {
          "output_type": "execute_result",
          "data": {
            "text/plain": [
              "<AxesSubplot:>"
            ]
          },
          "metadata": {},
          "execution_count": 167
        },
        {
          "output_type": "display_data",
          "data": {
            "text/plain": [
              "<Figure size 504x432 with 2 Axes>"
            ],
            "image/png": "[encoded data removed]"
          },
          "metadata": {}
        }
      ]
    },
    {
      "cell_type": "markdown",
      "source": [
        "###**MODELLING**"
      ],
      "metadata": {
        "id": "oMW0OchISYNh"
      },
      "id": "oMW0OchISYNh"
    },
    {
      "cell_type": "code",
      "source": [
        "# Preprocessing on target feature\n",
        "df.income.value_counts()"
      ],
      "metadata": {
        "colab": {
          "base_uri": "https://localhost:8080/"
        },
        "id": "Y8l3tuiiP0YD",
        "outputId": "a64429b8-308f-46d4-fa75-33b25feda241"
      },
      "id": "Y8l3tuiiP0YD",
      "execution_count": null,
      "outputs": [
        {
          "output_type": "execute_result",
          "data": {
            "text/plain": [
              "<=50K    24698\n",
              ">50K      7839\n",
              "Name: income, dtype: int64"
            ]
          },
          "metadata": {},
          "execution_count": 168
        }
      ]
    },
    {
      "cell_type": "code",
      "source": [
        "df['income'] = pd.get_dummies(df['income'], prefix='income', drop_first=True)\n",
        "y = df.income\n",
        "df = df.drop(columns=['income'])"
      ],
      "metadata": {
        "id": "o9AIaA4dQvJV"
      },
      "id": "o9AIaA4dQvJV",
      "execution_count": null,
      "outputs": []
    },
    {
      "cell_type": "code",
      "source": [
        "cat_col = df.select_dtypes(include=['object']).columns\n",
        "X = pd.get_dummies(df[cat_col], drop_first=True)"
      ],
      "metadata": {
        "id": "LGiC_TcJSAcq"
      },
      "id": "LGiC_TcJSAcq",
      "execution_count": null,
      "outputs": []
    },
    {
      "cell_type": "code",
      "source": [
        "X_train, X_test, y_train, y_test = split_data(X, y, test_size=0.2)"
      ],
      "metadata": {
        "id": "hVURjNxtSMxA"
      },
      "id": "hVURjNxtSMxA",
      "execution_count": null,
      "outputs": []
    },
    {
      "cell_type": "code",
      "source": [
        "X_train.shape,y_train.shape,X_test.shape,y_test.shape"
      ],
      "metadata": {
        "colab": {
          "base_uri": "https://localhost:8080/"
        },
        "id": "6UddjXJOSgYW",
        "outputId": "efd2fba4-57a9-46c2-fda8-758474b6dd67"
      },
      "id": "6UddjXJOSgYW",
      "execution_count": null,
      "outputs": [
        {
          "output_type": "execute_result",
          "data": {
            "text/plain": [
              "((26030, 94), (26030,), (6507, 94), (6507,))"
            ]
          },
          "metadata": {},
          "execution_count": 172
        }
      ]
    },
    {
      "cell_type": "code",
      "source": [
        "rfc = RandomForestClassifier(n_trees=10, bootstrap=True, max_features=5, min_samples_leaf=3,random_state=123)\n",
        "rfc.fit(X_train, y_train)\n",
        "acc_test = rfc.score(X_test, y_test)\n",
        "acc_train = rfc.score(X_train, y_train)\n",
        "y_train_pred= rfc.predict(X_train)\n",
        "y_pred= rfc.predict(X_test)\n",
        "print(\"Random Forest model\")\n",
        "print(\"train accuracy: %.2f%%\" % (acc_train*100))\n",
        "print(\"test accuracy:  %.2f%%\" % (acc_test*100))"
      ],
      "metadata": {
        "colab": {
          "base_uri": "https://localhost:8080/"
        },
        "id": "k5aj_pCfSlGY",
        "outputId": "e18657a6-de9c-4ade-de20-1b76199015b4"
      },
      "id": "k5aj_pCfSlGY",
      "execution_count": null,
      "outputs": [
        {
          "output_type": "stream",
          "name": "stdout",
          "text": [
            "Random Forest model\n",
            "train accuracy: 82.79%\n",
            "test accuracy:  83.48%\n"
          ]
        }
      ]
    },
    {
      "cell_type": "markdown",
      "source": [
        "####**MODEL EVALUATION**"
      ],
      "metadata": {
        "id": "fBbauw5y5oOd"
      },
      "id": "fBbauw5y5oOd"
    },
    {
      "cell_type": "code",
      "source": [
        "def calculate_accuracy(predictions, labels):\n",
        "    predictions_correct = predictions == labels\n",
        "    accuracy = predictions_correct.mean()\n",
        "    \n",
        "    return accuracy\n",
        "def precision(y_true, y_pred):\n",
        "    true_positives = sum((y_true == 1) & (y_pred == 1))\n",
        "    false_positives = sum((y_true == 0) & (y_pred == 1))\n",
        "    precision = true_positives / (true_positives + false_positives + 1e-7)\n",
        "    return precision\n",
        "\n",
        "\n",
        "def recall(y_true, y_pred):\n",
        "    true_positives = sum((y_true == 1) & (y_pred == 1))\n",
        "    false_negative = sum((y_true == 1) & (y_pred == 0))\n",
        "    recall = true_positives / (true_positives + false_negative + 1e-7) \n",
        "    return recall\n",
        "\n",
        "def f1_score(y_true, y_pred):\n",
        "    tp = sum((y_true == 1) & (y_pred == 1))\n",
        "    fp = sum((y_true == 0) & (y_pred == 1))\n",
        "    tn = sum((y_true == 0) & (y_pred == 0))\n",
        "    fn = sum((y_true == 1) & (y_pred == 0))\n",
        "    precision = tp / (tp + fp + 1e-7)\n",
        "    recall = tp / (tp + fn + 1e-7)\n",
        "    f1_score = 2 * (precision * recall) / (precision + recall + 1e-7)\n",
        "    return f1_score\n",
        "\n",
        "\n",
        "# getting all the performane metrics and stored it in a dataframe\n",
        "\n",
        "scores = pd.DataFrame(columns=['Model','Train_Accuracy','Train_Recall','Train_Precision','Train_F1_Score','Test_Accuracy','Test_Recall','Test_Precision','Test_F1_Score'])\n",
        "\n",
        "def get_metrics(train_actual,train_predicted,test_actual,test_predicted,model_description,dataframe):\n",
        "    train_accuracy = calculate_accuracy(train_actual,train_predicted)\n",
        "    train_recall   = recall(train_actual,train_predicted)\n",
        "    train_precision= precision(train_actual,train_predicted)\n",
        "    train_f1score  = f1_score(train_actual,train_predicted)\n",
        "    test_accuracy = calculate_accuracy(test_actual,test_predicted)\n",
        "    test_recall   = recall(test_actual,test_predicted)\n",
        "    test_precision= precision(test_actual,test_predicted)\n",
        "    test_f1score  = f1_score(test_actual,test_predicted)\n",
        "    dataframe = dataframe.append(pd.Series([model_description, train_accuracy,train_recall,train_precision,train_f1score,\n",
        "                                            test_accuracy,test_recall,test_precision,test_f1score],\n",
        "                                           index=scores.columns ), ignore_index=True)\n",
        "    return(dataframe)"
      ],
      "metadata": {
        "id": "oJLQEPuR1okn"
      },
      "execution_count": null,
      "outputs": [],
      "id": "oJLQEPuR1okn"
    },
    {
      "cell_type": "code",
      "source": [
        "# Used a customised function for getting reports\n",
        "scores = get_metrics(y_train,y_train_pred,y_test,y_pred,\"RandomforestClassifier\",scores)\n",
        "scores"
      ],
      "metadata": {
        "colab": {
          "base_uri": "https://localhost:8080/",
          "height": 81
        },
        "id": "x9Xe1o_7z3bU",
        "outputId": "7a7a5d6c-2852-4dde-e1d2-0052a33bfd77"
      },
      "execution_count": null,
      "outputs": [
        {
          "output_type": "execute_result",
          "data": {
            "text/plain": [
              "                    Model  Train_Accuracy  Train_Recall  Train_Precision  \\\n",
              "0  RandomforestClassifier        0.827891      0.486794         0.713656   \n",
              "\n",
              "   Train_F1_Score  Test_Accuracy  Test_Recall  Test_Precision  Test_F1_Score  \n",
              "0        0.578789       0.834793      0.48153        0.716389       0.575937  "
            ],
            "text/html": [
              "\n",
              "  <div id=\"df-48f12945-2b8d-4ab9-85bd-daa04b0a4418\">\n",
              "    <div class=\"colab-df-container\">\n",
              "      <div>\n",
              "<style scoped>\n",
              "    .dataframe tbody tr th:only-of-type {\n",
              "        vertical-align: middle;\n",
              "    }\n",
              "\n",
              "    .dataframe tbody tr th {\n",
              "        vertical-align: top;\n",
              "    }\n",
              "\n",
              "    .dataframe thead th {\n",
              "        text-align: right;\n",
              "    }\n",
              "</style>\n",
              "<table border=\"1\" class=\"dataframe\">\n",
              "  <thead>\n",
              "    <tr style=\"text-align: right;\">\n",
              "      <th></th>\n",
              "      <th>Model</th>\n",
              "      <th>Train_Accuracy</th>\n",
              "      <th>Train_Recall</th>\n",
              "      <th>Train_Precision</th>\n",
              "      <th>Train_F1_Score</th>\n",
              "      <th>Test_Accuracy</th>\n",
              "      <th>Test_Recall</th>\n",
              "      <th>Test_Precision</th>\n",
              "      <th>Test_F1_Score</th>\n",
              "    </tr>\n",
              "  </thead>\n",
              "  <tbody>\n",
              "    <tr>\n",
              "      <th>0</th>\n",
              "      <td>RandomforestClassifier</td>\n",
              "      <td>0.827891</td>\n",
              "      <td>0.486794</td>\n",
              "      <td>0.713656</td>\n",
              "      <td>0.578789</td>\n",
              "      <td>0.834793</td>\n",
              "      <td>0.48153</td>\n",
              "      <td>0.716389</td>\n",
              "      <td>0.575937</td>\n",
              "    </tr>\n",
              "  </tbody>\n",
              "</table>\n",
              "</div>\n",
              "      <button class=\"colab-df-convert\" onclick=\"convertToInteractive('df-48f12945-2b8d-4ab9-85bd-daa04b0a4418')\"\n",
              "              title=\"Convert this dataframe to an interactive table.\"\n",
              "              style=\"display:none;\">\n",
              "        \n",
              "  <svg xmlns=\"http://www.w3.org/2000/svg\" height=\"24px\"viewBox=\"0 0 24 24\"\n",
              "       width=\"24px\">\n",
              "    <path d=\"M0 0h24v24H0V0z\" fill=\"none\"/>\n",
              "    <path d=\"M18.56 5.44l.94 2.06.94-2.06 2.06-.94-2.06-.94-.94-2.06-.94 2.06-2.06.94zm-11 1L8.5 8.5l.94-2.06 2.06-.94-2.06-.94L8.5 2.5l-.94 2.06-2.06.94zm10 10l.94 2.06.94-2.06 2.06-.94-2.06-.94-.94-2.06-.94 2.06-2.06.94z\"/><path d=\"M17.41 7.96l-1.37-1.37c-.4-.4-.92-.59-1.43-.59-.52 0-1.04.2-1.43.59L10.3 9.45l-7.72 7.72c-.78.78-.78 2.05 0 2.83L4 21.41c.39.39.9.59 1.41.59.51 0 1.02-.2 1.41-.59l7.78-7.78 2.81-2.81c.8-.78.8-2.07 0-2.86zM5.41 20L4 18.59l7.72-7.72 1.47 1.35L5.41 20z\"/>\n",
              "  </svg>\n",
              "      </button>\n",
              "      \n",
              "  <style>\n",
              "    .colab-df-container {\n",
              "      display:flex;\n",
              "      flex-wrap:wrap;\n",
              "      gap: 12px;\n",
              "    }\n",
              "\n",
              "    .colab-df-convert {\n",
              "      background-color: #E8F0FE;\n",
              "      border: none;\n",
              "      border-radius: 50%;\n",
              "      cursor: pointer;\n",
              "      display: none;\n",
              "      fill: #1967D2;\n",
              "      height: 32px;\n",
              "      padding: 0 0 0 0;\n",
              "      width: 32px;\n",
              "    }\n",
              "\n",
              "    .colab-df-convert:hover {\n",
              "      background-color: #E2EBFA;\n",
              "      box-shadow: 0px 1px 2px rgba(60, 64, 67, 0.3), 0px 1px 3px 1px rgba(60, 64, 67, 0.15);\n",
              "      fill: #174EA6;\n",
              "    }\n",
              "\n",
              "    [theme=dark] .colab-df-convert {\n",
              "      background-color: #3B4455;\n",
              "      fill: #D2E3FC;\n",
              "    }\n",
              "\n",
              "    [theme=dark] .colab-df-convert:hover {\n",
              "      background-color: #434B5C;\n",
              "      box-shadow: 0px 1px 3px 1px rgba(0, 0, 0, 0.15);\n",
              "      filter: drop-shadow(0px 1px 2px rgba(0, 0, 0, 0.3));\n",
              "      fill: #FFFFFF;\n",
              "    }\n",
              "  </style>\n",
              "\n",
              "      <script>\n",
              "        const buttonEl =\n",
              "          document.querySelector('#df-48f12945-2b8d-4ab9-85bd-daa04b0a4418 button.colab-df-convert');\n",
              "        buttonEl.style.display =\n",
              "          google.colab.kernel.accessAllowed ? 'block' : 'none';\n",
              "\n",
              "        async function convertToInteractive(key) {\n",
              "          const element = document.querySelector('#df-48f12945-2b8d-4ab9-85bd-daa04b0a4418');\n",
              "          const dataTable =\n",
              "            await google.colab.kernel.invokeFunction('convertToInteractive',\n",
              "                                                     [key], {});\n",
              "          if (!dataTable) return;\n",
              "\n",
              "          const docLinkHtml = 'Like what you see? Visit the ' +\n",
              "            '<a target=\"_blank\" href=https://colab.research.google.com/notebooks/data_table.ipynb>data table notebook</a>'\n",
              "            + ' to learn more about interactive tables.';\n",
              "          element.innerHTML = '';\n",
              "          dataTable['output_type'] = 'display_data';\n",
              "          await google.colab.output.renderOutput(dataTable, element);\n",
              "          const docLink = document.createElement('div');\n",
              "          docLink.innerHTML = docLinkHtml;\n",
              "          element.appendChild(docLink);\n",
              "        }\n",
              "      </script>\n",
              "    </div>\n",
              "  </div>\n",
              "  "
            ]
          },
          "metadata": {},
          "execution_count": 178
        }
      ],
      "id": "x9Xe1o_7z3bU"
    },
    {
      "cell_type": "code",
      "source": [
        "calc_f1_score(y_test,y_pred)"
      ],
      "metadata": {
        "colab": {
          "base_uri": "https://localhost:8080/"
        },
        "id": "WfzVMctbxyeG",
        "outputId": "40cfc037-3021-45b5-dc29-3b94b175a3ef"
      },
      "execution_count": null,
      "outputs": [
        {
          "output_type": "stream",
          "name": "stdout",
          "text": [
            "Recall: 0.4815\n",
            "Precision: 0.7164\n",
            "F1 Score: 0.5759\n"
          ]
        }
      ],
      "id": "WfzVMctbxyeG"
    },
    {
      "cell_type": "code",
      "source": [
        "confusion_matrix(y_test,y_pred)"
      ],
      "metadata": {
        "colab": {
          "base_uri": "https://localhost:8080/"
        },
        "id": "1mdYBH_Zxyg7",
        "outputId": "752c0b21-0c53-4b57-e082-49d08202a601"
      },
      "execution_count": null,
      "outputs": [
        {
          "output_type": "execute_result",
          "data": {
            "text/plain": [
              "array([[4702,  289],\n",
              "       [ 786,  730]])"
            ]
          },
          "metadata": {},
          "execution_count": 180
        }
      ],
      "id": "1mdYBH_Zxyg7"
    }
  ],
  "metadata": {
    "colab": {
      "provenance": [],
      "collapsed_sections": [
        "JNo5kiTv2TNT",
        "0PvMK6cTmtXz",
        "xWlFPEw9lb-q",
        "sJLFOgFY4HXd",
        "SJGPj3O_H7ez",
        "oMW0OchISYNh",
        "fBbauw5y5oOd"
      ]
    },
    "language_info": {
      "name": "python"
    },
    "kernelspec": {
      "name": "python3",
      "display_name": "Python 3"
    },
    "gpuClass": "standard"
  },
  "nbformat": 4,
  "nbformat_minor": 5
}